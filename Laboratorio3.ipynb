{
 "cells": [
  {
   "cell_type": "code",
   "execution_count": null,
   "metadata": {},
   "outputs": [],
   "source": []
  },
  {
   "attachments": {},
   "cell_type": "markdown",
   "metadata": {},
   "source": [
    "# Laboratorio: Análisis de Datos con Python"
   ]
  },
  {
   "attachments": {},
   "cell_type": "markdown",
   "metadata": {},
   "source": [
    "## Parte 1: Numpy:"
   ]
  },
  {
   "attachments": {},
   "cell_type": "markdown",
   "metadata": {},
   "source": [
    "### Ejercicio 1 \n",
    "¿Cuál es el tamaño en bytes de un array de 1000 elementos de tipo booleano?\n",
    "En la teoria una variable booleana solo puede tener dos estados posibles, verdadero o falso, lo que significa que solo se necesita 1 bit para almacenar su valor significando 1000 bytes o 125 bytes.\n",
    "Pero en la practica la mayoría de las implementaciones de lenguajes de programación asignarán 1 byte completo de memoria para almacenarla significando asi:\n",
    "\n",
    " **1000 bytes**\n",
    "\n",
    "\n"
   ]
  },
  {
   "cell_type": "markdown",
   "metadata": {},
   "source": [
    "### Ejercicio 2\n",
    "Cree un array cuyos elementos sean los enteros pares en [1,100] y en orden decreciente. Muestre los 10 últimos por pantalla."
   ]
  },
  {
   "cell_type": "code",
   "execution_count": null,
   "metadata": {},
   "outputs": [],
   "source": [
    "#Version sin Libreria\n",
    "# Crear una lista vacía para almacenar los números pares\n",
    "pares = []\n",
    "\n",
    "# Iterar a través de los números en el rango de 1 a 100\n",
    "for i in range(100, 0, -2):\n",
    "    # Agregar solo los números pares a la lista\n",
    "    if i % 2 == 0:\n",
    "        pares.append(i)\n",
    "\n",
    "# Usar la sintaxis de la lista para mostrar los últimos 10 elementos\n",
    "ultimos10 = pares[-10:]\n",
    "print(ultimos10)"
   ]
  },
  {
   "cell_type": "code",
   "execution_count": null,
   "metadata": {},
   "outputs": [],
   "source": [
    "#Version Numpy\n",
    "\n",
    "import numpy as np\n",
    "\n",
    "def numeros_pares_decreciente():\n",
    "    # Crear un array con los números en el rango de 1 a 100\n",
    "    numeros = np.arange(2, 101, 2)\n",
    "\n",
    "    # Filtrar solo los números pares\n",
    "    pares = numeros[::-1]\n",
    "\n",
    "    # Usar la sintaxis de la lista para mostrar los últimos 10 elementos\n",
    "    ultimos10 = pares[-10:]\n",
    "    print(ultimos10)\n",
    "\n",
    "numeros_pares_decreciente()\n"
   ]
  },
  {
   "attachments": {},
   "cell_type": "markdown",
   "metadata": {},
   "source": [
    "### Ejercicio 3\n"
   ]
  },
  {
   "attachments": {},
   "cell_type": "markdown",
   "metadata": {},
   "source": [
    "Seleccione con una instrucción el subarray de elementos 0 3 7 4"
   ]
  },
  {
   "cell_type": "code",
   "execution_count": 28,
   "metadata": {},
   "outputs": [
    {
     "name": "stdout",
     "output_type": "stream",
     "text": [
      "[0 3 7 4]\n"
     ]
    }
   ],
   "source": [
    "import numpy as np\n",
    "\n",
    "#Crear el array de 2 dimensiones con los valores\n",
    "array = np.array([[2,4,5,6],\n",
    "                   [0,3,7,4],\n",
    "                   [8,8,5,2],\n",
    "                   [1,5,6,1]])\n",
    "\n",
    "# Devolver segunda final usando el indice\n",
    "print(array[1, :])\n"
   ]
  },
  {
   "attachments": {},
   "cell_type": "markdown",
   "metadata": {},
   "source": [
    "Después, seleccione el subarray de elementos\n",
    "> 2 5\n",
    "> 8 5"
   ]
  },
  {
   "cell_type": "code",
   "execution_count": 33,
   "metadata": {},
   "outputs": [
    {
     "name": "stdout",
     "output_type": "stream",
     "text": [
      "2 5\n",
      "8 5\n"
     ]
    }
   ],
   "source": [
    "import numpy as np\n",
    "\n",
    "#Crear el array de 2 dimensiones con los valores\n",
    "array = np.array([[2,4,5,6],\n",
    "                   [0,3,7,4],\n",
    "                   [8,8,5,2],\n",
    "                   [1,5,6,1]])\n",
    "\n",
    "# Guardar los indices solicitados\n",
    "indice1 = array[0,0]\n",
    "indice2 = array[0,2]\n",
    "indice3 = array[2,0]\n",
    "indice4 = array[2,2]\n",
    "\n",
    "#Mostrar los indices solicitados\n",
    "print(indice1, indice2)\n",
    "print(indice3, indice4)"
   ]
  },
  {
   "attachments": {},
   "cell_type": "markdown",
   "metadata": {},
   "source": [
    "### Ejercicio 4 \n",
    "Dados los arrays a = [1, 4, 2, 7] y b = [1, 3, 2, 9], obtenga la media aritmética de la diferencia (a-b)."
   ]
  },
  {
   "cell_type": "markdown",
   "metadata": {},
   "source": []
  }
 ],
 "metadata": {
  "kernelspec": {
   "display_name": "Testenv3",
   "language": "python",
   "name": "python3"
  },
  "language_info": {
   "codemirror_mode": {
    "name": "ipython",
    "version": 3
   },
   "file_extension": ".py",
   "mimetype": "text/x-python",
   "name": "python",
   "nbconvert_exporter": "python",
   "pygments_lexer": "ipython3",
   "version": "3.9.16"
  },
  "orig_nbformat": 4
 },
 "nbformat": 4,
 "nbformat_minor": 2
}
