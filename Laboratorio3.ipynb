{
 "cells": [
  {
   "cell_type": "code",
   "execution_count": null,
   "metadata": {},
   "outputs": [],
   "source": []
  },
  {
   "attachments": {},
   "cell_type": "markdown",
   "metadata": {},
   "source": [
    "# Laboratorio: Análisis de Datos con Python"
   ]
  },
  {
   "attachments": {},
   "cell_type": "markdown",
   "metadata": {},
   "source": [
    "## Parte 1: Numpy:"
   ]
  },
  {
   "attachments": {},
   "cell_type": "markdown",
   "metadata": {},
   "source": [
    "### Ejercicio 1 \n",
    "¿Cuál es el tamaño en bytes de un array de 1000 elementos de tipo booleano?\n",
    "\n",
    ">> En la teoria una variable booleana solo puede tener dos estados posibles, verdadero o falso, lo que significa que solo se necesita 1 bit para almacenar su valor significando 1000 bytes o 125 bytes.\n",
    "Pero en la practica la mayoría de las implementaciones de lenguajes de programación asignarán 1 byte completo de memoria para almacenarla significando asi:\n",
    "\n",
    " **1000 bytes**\n",
    "\n",
    "\n"
   ]
  },
  {
   "cell_type": "markdown",
   "metadata": {},
   "source": [
    "### Ejercicio 2\n",
    "Cree un array cuyos elementos sean los enteros pares en [1,100] y en orden decreciente. Muestre los 10 últimos por pantalla."
   ]
  },
  {
   "cell_type": "code",
   "execution_count": null,
   "metadata": {},
   "outputs": [],
   "source": [
    "#Version sin Libreria\n",
    "# Crear una lista vacía para almacenar los números pares\n",
    "pares = []\n",
    "\n",
    "# Iterar a través de los números en el rango de 1 a 100\n",
    "for i in range(100, 0, -2):\n",
    "    # Agregar solo los números pares a la lista\n",
    "    if i % 2 == 0:\n",
    "        pares.append(i)\n",
    "\n",
    "# Usar la sintaxis de la lista para mostrar los últimos 10 elementos\n",
    "ultimos10 = pares[-10:]\n",
    "print(ultimos10)"
   ]
  },
  {
   "cell_type": "code",
   "execution_count": null,
   "metadata": {},
   "outputs": [],
   "source": [
    "#Version Numpy\n",
    "\n",
    "import numpy as np\n",
    "\n",
    "def numeros_pares_decreciente():\n",
    "    # Crear un array con los números en el rango de 1 a 100\n",
    "    numeros = np.arange(2, 101, 2)\n",
    "\n",
    "    # Filtrar solo los números pares\n",
    "    pares = numeros[::-1]\n",
    "\n",
    "    # Usar la sintaxis de la lista para mostrar los últimos 10 elementos\n",
    "    ultimos10 = pares[-10:]\n",
    "    print(ultimos10)\n",
    "\n",
    "numeros_pares_decreciente()\n"
   ]
  },
  {
   "attachments": {},
   "cell_type": "markdown",
   "metadata": {},
   "source": [
    "### Ejercicio 3\n"
   ]
  },
  {
   "attachments": {},
   "cell_type": "markdown",
   "metadata": {},
   "source": [
    "Seleccione con una instrucción el subarray de elementos 0 3 7 4"
   ]
  },
  {
   "cell_type": "code",
   "execution_count": null,
   "metadata": {},
   "outputs": [],
   "source": [
    "import numpy as np\n",
    "\n",
    "#Crear el array de 2 dimensiones con los valores\n",
    "array = np.array([[2,4,5,6],\n",
    "                   [0,3,7,4],\n",
    "                   [8,8,5,2],\n",
    "                   [1,5,6,1]])\n",
    "\n",
    "# Devolver segunda final usando el indice\n",
    "print(array[1, :])\n"
   ]
  },
  {
   "attachments": {},
   "cell_type": "markdown",
   "metadata": {},
   "source": [
    "Después, seleccione el subarray de elementos\n",
    "> 2 5\n",
    "> 8 5"
   ]
  },
  {
   "cell_type": "code",
   "execution_count": null,
   "metadata": {},
   "outputs": [],
   "source": [
    "import numpy as np\n",
    "\n",
    "#Crear el array de 2 dimensiones con los valores\n",
    "array = np.array([[2,4,5,6],\n",
    "                   [0,3,7,4],\n",
    "                   [8,8,5,2],\n",
    "                   [1,5,6,1]])\n",
    "\n",
    "# Guardar los indices solicitados\n",
    "indice1 = array[0,0]\n",
    "indice2 = array[0,2]\n",
    "indice3 = array[2,0]\n",
    "indice4 = array[2,2]\n",
    "\n",
    "#Mostrar los indices solicitados\n",
    "print(indice1, indice2)\n",
    "print(indice3, indice4)"
   ]
  },
  {
   "attachments": {},
   "cell_type": "markdown",
   "metadata": {},
   "source": [
    "### Ejercicio 4 \n",
    "Dados los arrays a = [1, 4, 2, 7] y b = [1, 3, 2, 9], obtenga la media aritmética de la diferencia (a-b)."
   ]
  },
  {
   "cell_type": "code",
   "execution_count": null,
   "metadata": {},
   "outputs": [],
   "source": [
    "import numpy as np\n",
    "\n",
    "# Crear las listas que seran evaluadas\n",
    "a = [1, 4, 2, 7]\n",
    "b = [1, 3, 2, 9]\n",
    "\n",
    "# Calular la diferencia (a-b) y media aritmetica\n",
    "diferencia = [a[i] - b[i] for i in range(len(a))]   \n",
    "media = np.mean(diferencia)\n",
    "\n",
    "#Mostamos el resultado de la media artimetica\n",
    "print(media)\n"
   ]
  },
  {
   "attachments": {},
   "cell_type": "markdown",
   "metadata": {},
   "source": [
    "### Ejercicio 5\n",
    "Agregue a este array las coordenadas (37.1, -3.6). Muestre en pantalla las dimensiones del nuevo array.\n"
   ]
  },
  {
   "cell_type": "code",
   "execution_count": null,
   "metadata": {},
   "outputs": [],
   "source": [
    "import numpy as np\n",
    "\n",
    "#Crear el array de 2 dimensiones con los valores\n",
    "array_original = np.array([[1.33,4.5],\n",
    "                   [30.0,10.7],\n",
    "                   [70.2,0.5]])\n",
    "\n",
    "# Obtenemos las dimensiones del array original\n",
    "dimension_original = array_original.shape\n",
    "print(\"Dimensiones antes de hacer append:\", dimension_original)\n",
    "\n",
    "# Agregamos una nueva fila al final del array\n",
    "nueva_fila = np.array([[37.1, -3.6]])\n",
    "nuevo_array = np.append(array_original, nueva_fila, axis = 0)\n",
    "\n",
    "# Obtenemos las dimensiones del nuevo array\n",
    "dimension_nuevas = nuevo_array.shape\n",
    "print(\"Dimensiones despues de hacer append:\", dimension_nuevas)\n"
   ]
  },
  {
   "attachments": {},
   "cell_type": "markdown",
   "metadata": {},
   "source": [
    "### Ejercicio 6\n",
    "Copie el array del ejercicio anterior. Traspóngalo (. Agregue ahora dos nuevos pares de coordenadas: (10.8, 3.0) y (35.8, 12.0)."
   ]
  },
  {
   "cell_type": "code",
   "execution_count": null,
   "metadata": {},
   "outputs": [],
   "source": [
    "import numpy as np\n",
    "\n",
    "#Crear el array de 2 dimensiones con los valores\n",
    "array_original = np.array([[1.33,4.5],\n",
    "                   [30.0,10.7],\n",
    "                   [70.2,0.5]])\n",
    "\n",
    "#Transponer el array de dos dimenciones\n",
    "array_transpuesto = np.transpose(array_original)\n",
    "#print(array_transpuesto)\n",
    "\n",
    "# Agregamos una nuevas filas al final del array\n",
    "nueva_fila = np.array([[10.8,3.0],[35.8, 12.0]])\n",
    "nuevo_array = np.append(array_transpuesto, nueva_fila, axis = 1)\n",
    "print(nuevo_array)"
   ]
  },
  {
   "attachments": {},
   "cell_type": "markdown",
   "metadata": {},
   "source": [
    "## Parte 2 Exploración y Minería de Datos"
   ]
  },
  {
   "attachments": {},
   "cell_type": "markdown",
   "metadata": {},
   "source": [
    "### Ejercicio 1\n",
    "Parte 1\n",
    "\n",
    "Cuántos Municipios tienen más de 100000 habitantes"
   ]
  },
  {
   "cell_type": "code",
   "execution_count": 7,
   "metadata": {},
   "outputs": [
    {
     "name": "stdout",
     "output_type": "stream",
     "text": [
      "62\n"
     ]
    }
   ],
   "source": [
    "import pandas as pd\n",
    "\n",
    "data = pd.read_csv('NucleosPoblacion.csv', delimiter=',')\n",
    "\n",
    "#print(data.head(2))\n",
    "\n",
    "# Contar el número de veces que se cumple la condición\n",
    "conteo_poblacion = (data['Poblacion'] >= 100000).sum()\n",
    "\n",
    "# Imprimir el resultado\n",
    "print(conteo_poblacion)\n",
    "\n"
   ]
  },
  {
   "attachments": {},
   "cell_type": "markdown",
   "metadata": {},
   "source": [
    "### Ejercico 1\n",
    "Parte 2\n",
    "Realice una gráfica de barras sobre la polbación de cada ciudad, ordenela de menor a mayo y responda:"
   ]
  },
  {
   "cell_type": "code",
   "execution_count": 2,
   "metadata": {},
   "outputs": [
    {
     "ename": "ModuleNotFoundError",
     "evalue": "No module named 'matplotlib'",
     "output_type": "error",
     "traceback": [
      "\u001b[0;31m---------------------------------------------------------------------------\u001b[0m",
      "\u001b[0;31mModuleNotFoundError\u001b[0m                       Traceback (most recent call last)",
      "Cell \u001b[0;32mIn[2], line 2\u001b[0m\n\u001b[1;32m      1\u001b[0m \u001b[39mimport\u001b[39;00m \u001b[39mpandas\u001b[39;00m \u001b[39mas\u001b[39;00m \u001b[39mpd\u001b[39;00m\n\u001b[0;32m----> 2\u001b[0m \u001b[39mimport\u001b[39;00m \u001b[39mmatplotlib\u001b[39;00m\u001b[39m.\u001b[39;00m\u001b[39mpyplot\u001b[39;00m \u001b[39mas\u001b[39;00m \u001b[39mplt\u001b[39;00m\n\u001b[1;32m      4\u001b[0m data \u001b[39m=\u001b[39m pd\u001b[39m.\u001b[39mread_csv(\u001b[39m'\u001b[39m\u001b[39mNucleosPoblacion.csv\u001b[39m\u001b[39m'\u001b[39m, delimiter\u001b[39m=\u001b[39m\u001b[39m'\u001b[39m\u001b[39m,\u001b[39m\u001b[39m'\u001b[39m)\n\u001b[1;32m      6\u001b[0m \u001b[39m# Crear la gráfica de barras\u001b[39;00m\n",
      "\u001b[0;31mModuleNotFoundError\u001b[0m: No module named 'matplotlib'"
     ]
    }
   ],
   "source": [
    "import pandas as pd\n",
    "import matplotlib.pyplot as plt\n",
    "\n",
    "data = pd.read_csv('NucleosPoblacion.csv', delimiter=',')\n",
    "\n",
    "# Crear la gráfica de barras\n",
    "data.plot.bar(x='Texto', y='Poblacion') \n",
    "\n",
    "# Mostrar la gráfica\n",
    "plt.show()"
   ]
  },
  {
   "cell_type": "markdown",
   "metadata": {},
   "source": []
  }
 ],
 "metadata": {
  "kernelspec": {
   "display_name": "Testenv3",
   "language": "python",
   "name": "python3"
  },
  "language_info": {
   "codemirror_mode": {
    "name": "ipython",
    "version": 3
   },
   "file_extension": ".py",
   "mimetype": "text/x-python",
   "name": "python",
   "nbconvert_exporter": "python",
   "pygments_lexer": "ipython3",
   "version": "3.9.16"
  },
  "orig_nbformat": 4
 },
 "nbformat": 4,
 "nbformat_minor": 2
}
